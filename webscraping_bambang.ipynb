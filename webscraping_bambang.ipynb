{
 "cells": [
  {
   "cell_type": "code",
   "execution_count": 1,
   "id": "0b02a44c",
   "metadata": {},
   "outputs": [
    {
     "data": {
      "text/plain": [
       "'dirunning 04 jan 2023 '"
      ]
     },
     "execution_count": 1,
     "metadata": {},
     "output_type": "execute_result"
    }
   ],
   "source": [
    "#pip install selenium\n",
    "\"dirunning 04 jan 2023 \""
   ]
  },
  {
   "cell_type": "code",
   "execution_count": 142,
   "id": "ad8582fd",
   "metadata": {},
   "outputs": [],
   "source": [
    "from bs4 import BeautifulSoup\n",
    "import requests\n",
    "import pandas as pd\n",
    "from decimal import Decimal\n",
    "\n",
    "from selenium import webdriver\n",
    "from selenium.webdriver.common.by import By\n",
    "from selenium.webdriver.support.ui import WebDriverWait\n",
    "from selenium.webdriver.support import expected_conditions as EC\n",
    "from selenium.webdriver.chrome.service import Service "
   ]
  },
  {
   "cell_type": "code",
   "execution_count": null,
   "id": "01556085",
   "metadata": {},
   "outputs": [],
   "source": []
  },
  {
   "cell_type": "code",
   "execution_count": 116,
   "id": "948ced42",
   "metadata": {},
   "outputs": [
    {
     "name": "stdout",
     "output_type": "stream",
     "text": [
      "<table class=\"table table-striped table-hover table-hover-solid-row table-simple history-data\">\n",
      "<tbody>\n",
      "<tr><td>1/6/2023</td><td>Friday</td><td><a href=\"/Rate/USD/IDR/1-6-2023\">15,607.20000</a> IDR</td><td class=\"text-narrow-screen-hidden\"><a href=\"/Rate/USD/IDR/1-6-2023\">USD IDR rate for 1/6/2023</a></td></tr><tr><td>1/5/2023</td><td>Thursday</td><td><a href=\"/Rate/USD/IDR/1-5-2023\">15,635.20000</a> IDR</td><td class=\"text-narrow-screen-hidden\"><a href=\"/Rate/USD/IDR/1-5-2023\">USD IDR rate for 1/5/2023</a></td></tr><tr><td>1/4/2023</td><td>Wednesday</td><td><a href=\"/Rate/USD/IDR/1-4-2023\">15,581.95000</a> IDR</td><td class=\"text-narrow-screen-hidden\"><a href=\"/Rate/USD/IDR/1-4-2023\">USD IDR rate for 1/4/2023</a></td></tr><tr><td>1/3/2023</td><td>Tuesday</td><td><a href=\"/Rate/USD/IDR/1-3-2023\">15,594.30000</a> IDR</td><td class=\"text-narrow-screen-hidden\"><a href=\"/Rate/USD/IDR/1-3-2023\">USD IDR rate for 1/3/2023</a></td></tr><tr><td>1/2/2023</td><td>Monday</td><td><a href=\"/Rate/USD/IDR/1-2-2023\">15,554.00000</a> IDR</td><td class=\"text-narrow-screen-hidden\"><a href=\"/Rate/USD/IDR/1-2-2023\">USD IDR rate for 1/2/2023</a></td></tr><tr><td>12/30/2022</td><td>Friday</td><td><a href=\"/Rate/USD/IDR/12-30-2022\">15,534.30000</a> IDR</td><td class=\"text-narrow-screen-hidden\"><a href=\"/Rate/USD/IDR/12-30-2022\">USD IDR rate for 12/30/2022</a></td></tr><tr><td>12/29/2022</td><td>Thursday</td><td><a href=\"/Rate/USD/IDR/12-29-2022\">15,626.50000</a> IDR</td><td class=\"text-narrow-screen-hidden\"><a href=\"/Rate/USD/IDR/12-29-2022\">USD IDR rate for 12/29/2022</a></td></tr><tr><td>12/28/2022</td><td>Wednesday</td><td><a href=\"/Rate/USD/IDR/12-28-2022\">15,788.95000</a> IDR</td><td class=\"text-narrow-screen-hidden\"><a href=\"/Rate/USD/IDR/12-28-2022\">USD IDR rate for 12/28/2022</a></td></tr><tr><td>12/27/2022</td><td>Tuesday</td><td><a href=\"/Rate/USD/IDR/12-27-2022\">15,620.05955</a> IDR</td><td class=\"text-narrow-screen-hidden\"><a href=\"/Rate/USD/IDR/12-27-2022\">USD IDR rate for 12/27/2022</a></td></tr><tr><td>12/26/2022</td><td>Monday</td><td><a href=\"/Rate/USD/IDR/12-26-2022\">15,621.17514</a> IDR</td><td class=\"text-narrow-screen-hidden\"><a href=\"/Rate/USD/IDR/12-26-2022\">USD IDR rate for 12/26/2022</a></td></tr><tr><td>12/23/2022</td><td>Friday</td><td><a href=\"/Rate/USD/IDR/12-23-2022\">15,582.47866</a> IDR</td><td class=\"text-narrow-screen-hidden\"><a href=\"/Rate/USD/IDR/12-23-2022\">USD IDR rate for 12/23/2022</a></td></tr><tr><td>12/22/2022</td><td>Thursday</td><td><a href=\"/Rate/USD/IDR/12-22-2022\">15,573.70210</a> IDR</td><td class=\"text-narrow-screen-hidden\"><a href=\"/Rate/USD/IDR/12-22-2022\">USD IDR rate for 12/22/2022</a></td></tr><tr><td>12/21/2022</td><td>Wednesday</td><td><a href=\"/Rate/USD/IDR/12-21-2022\">15,539.50000</a> IDR</td><td class=\"text-narrow-screen-hidden\"><a href=\"/Rate/USD/IDR/12-21-2022\">USD IDR rate for 12/21/2022</a></td></tr><tr><td>12/20/2022</td><td>Tuesday</td><td><a href=\"/Rate/USD/IDR/12-20-2022\">15,563.50000</a> IDR</td><td class=\"text-narrow-screen-hidden\"><a href=\"/Rate/USD/IDR/12-20-2022\">USD IDR rate for 12/20/2022</a></td></tr><tr><td>12/19/2022</td><td>Monday</td><td><a href=\"/Rate/USD/IDR/12-19-2022\">15,567.55000</a> IDR</td><td class=\"text-narrow-screen-hidden\"><a href=\"/Rate/USD/IDR/12-19-2022\">USD IDR rate for 12/19/2022</a></td></tr><tr><td>12/16/2022</td><td>Friday</td><td><a href=\"/Rate/USD/IDR/12-16-2022\">15,616.05000</a> IDR</td><td class=\"text-narrow-screen-hidden\"><a href=\"/Rate/USD/IDR/12-16-2022\">USD IDR rate for 12/16/2022</a></td></tr><tr><td>12/15/2022</td><td>Thursday</td><td><a href=\"/Rate/USD/IDR/12-15-2022\">15,629.40000</a> IDR</td><td class=\"text-narrow-screen-hidden\"><a href=\"/Rate/USD/IDR/12-15-2022\">USD IDR rate for 12/15/2022</a></td></tr><tr><td>12/14/2022</td><td>Wednesday</td><td><a href=\"/Rate/USD/IDR/12-14-2022\">15,543.30000</a> IDR</td><td class=\"text-narrow-screen-hidden\"><a href=\"/Rate/USD/IDR/12-14-2022\">USD IDR rate for 12/14/2022</a></td></tr><tr><td>12/13/2022</td><td>Tuesday</td><td><a href=\"/Rate/USD/IDR/12-13-2022\">15,560.20000</a> IDR</td><td class=\"text-narrow-screen-hidden\"><a href=\"/Rate/USD/IDR/12-13-2022\">USD IDR rate for 12/13/2022</a></td></tr><tr><td>12/12/2022</td><td>Monday</td><td><a href=\"/Rate/USD/IDR/12-12-2022\">15,676.35000</a> IDR</td><td class=\"text-narrow-screen-hidden\"><a href=\"/Rate/USD/IDR/12-12-2022\">USD IDR rate for 12/12/2022</a></td></tr><tr><td>12/9/2022</td><td>Friday</td><td><a href=\"/Rate/USD/IDR/12-9-2022\">15,603.50000</a> IDR</td><td class=\"text-narrow-screen-hidden\"><a href=\"/Rate/USD/IDR/12-9-2022\">USD IDR rate for 12/9/2022</a></td></tr><tr><td>12/8/2022</td><td>Thursday</td><td><a href=\"/Rate/USD/IDR/12-8-2022\">15,594.15000</a> IDR</td><td class=\"text-narrow-screen-hidden\"><a href=\"/Rate/USD/IDR/12-8-2022\">USD IDR rate for 12/8/2022</a></td></tr><tr><td>12/7/2022</td><td>Wednesday</td><td><a href=\"/Rate/USD/IDR/12-7-2022\">15,611.64423</a> IDR</td><td class=\"text-narrow-screen-hidden\"><a href=\"/Rate/USD/IDR/12-7-2022\">USD IDR rate for 12/7/2022</a></td></tr><tr><td>12/6/2022</td><td>Tuesday</td><td><a href=\"/Rate/USD/IDR/12-6-2022\">15,624.97500</a> IDR</td><td class=\"text-narrow-screen-hidden\"><a href=\"/Rate/USD/IDR/12-6-2022\">USD IDR rate for 12/6/2022</a></td></tr><tr><td>12/5/2022</td><td>Monday</td><td><a href=\"/Rate/USD/IDR/12-5-2022\">15,520.35000</a> IDR</td><td class=\"text-narrow-screen-hidden\"><a href=\"/Rate/USD/IDR/12-5-2022\">USD IDR rate for 12/5/2022</a></td></tr><tr><td>12/2/2022</td><td>Friday</td><td><a href=\"/Rate/USD/IDR/12-2-2022\">15,376.20000</a> IDR</td><td class=\"text-narrow-screen-hidden\"><a href=\"/Rate/USD/IDR/12-2-2022\">USD IDR rate for 12/2/2022</a></td></tr><tr><td>12/1/2022</td><td>Thursday</td><td><a href=\"/Rate/USD/IDR/12-1-2022\">15,389.05000</a> IDR</td><td class=\"text-narrow-screen-hidden\"><a href=\"/Rate/USD/IDR/12-1-2022\">USD IDR rate for 12/1/2022</a></td></tr><tr><td>11/30/2022</td><td>Wednesday</td><td><a href=\"/Rate/USD/IDR/11-30-2022\">15,632.95000</a> IDR</td><td class=\"text-narrow-screen-hidden\"><a href=\"/Rate/USD/IDR/11-30-2022\">USD IDR rate for 11/30/2022</a></td></tr><tr><td>11/29/2022</td><td>Tuesday</td><td><a href=\"/Rate/USD/IDR/11-29-2022\">15,733.50000</a> IDR</td><td class=\"text-narrow-screen-hidden\"><a href=\"/Rate/USD/IDR/11-29-2022\">USD IDR rate for 11/29/2022</a></td></tr><tr><td>11/28/2022</td><td>Monday</td><td><a href=\"/Rate/USD/IDR/11-28-2022\">15,742.83672</a> IDR</td><td class=\"text-narrow-screen-hidden\"><a href=\"/Rate/USD/IDR/11-28-2022\">USD IDR rate for 11/28/2022</a></td></tr><tr><td>11/25/2022</td><td>Friday</td><td><a href=\"/Rate/USD/IDR/11-25-2022\">15,692.83343</a> IDR</td><td class=\"text-narrow-screen-hidden\"><a href=\"/Rate/USD/IDR/11-25-2022\">USD IDR rate for 11/25/2022</a></td></tr><tr><td>11/24/2022</td><td>Thursday</td><td><a href=\"/Rate/USD/IDR/11-24-2022\">15,646.60000</a> IDR</td><td class=\"text-narrow-screen-hidden\"><a href=\"/Rate/USD/IDR/11-24-2022\">USD IDR rate for 11/24/2022</a></td></tr><tr><td>11/23/2022</td><td>Wednesday</td><td><a href=\"/Rate/USD/IDR/11-23-2022\">15,626.00000</a> IDR</td><td class=\"text-narrow-screen-hidden\"><a href=\"/Rate/USD/IDR/11-23-2022\">USD IDR rate for 11/23/2022</a></td></tr><tr><td>11/22/2022</td><td>Tuesday</td><td><a href=\"/Rate/USD/IDR/11-22-2022\">15,663.68193</a> IDR</td><td class=\"text-narrow-screen-hidden\"><a href=\"/Rate/USD/IDR/11-22-2022\">USD IDR rate for 11/22/2022</a></td></tr><tr><td>11/21/2022</td><td>Monday</td><td><a href=\"/Rate/USD/IDR/11-21-2022\">15,740.80000</a> IDR</td><td class=\"text-narrow-screen-hidden\"><a href=\"/Rate/USD/IDR/11-21-2022\">USD IDR rate for 11/21/2022</a></td></tr><tr><td>11/18/2022</td><td>Friday</td><td><a href=\"/Rate/USD/IDR/11-18-2022\">15,641.30000</a> IDR</td><td class=\"text-narrow-screen-hidden\"><a href=\"/Rate/USD/IDR/11-18-2022\">USD IDR rate for 11/18/2022</a></td></tr><tr><td>11/17/2022</td><td>Thursday</td><td><a href=\"/Rate/USD/IDR/11-17-2022\">15,713.60341</a> IDR</td><td class=\"text-narrow-screen-hidden\"><a href=\"/Rate/USD/IDR/11-17-2022\">USD IDR rate for 11/17/2022</a></td></tr><tr><td>11/16/2022</td><td>Wednesday</td><td><a href=\"/Rate/USD/IDR/11-16-2022\">15,638.60000</a> IDR</td><td class=\"text-narrow-screen-hidden\"><a href=\"/Rate/USD/IDR/11-16-2022\">USD IDR rate for 11/16/2022</a></td></tr><tr><td>11/15/2022</td><td>Tuesday</td><td><a href=\"/Rate/USD/IDR/11-15-2022\">15,556.92221</a> IDR</td><td class=\"text-narrow-screen-hidden\"><a href=\"/Rate/USD/IDR/11-15-2022\">USD IDR rate for 11/15/2022</a></td></tr><tr><td>11/14/2022</td><td>Monday</td><td><a href=\"/Rate/USD/IDR/11-14-2022\">15,554.40000</a> IDR</td><td class=\"text-narrow-screen-hidden\"><a href=\"/Rate/USD/IDR/11-14-2022\">USD IDR rate for 11/14/2022</a></td></tr><tr><td>11/11/2022</td><td>Friday</td><td><a href=\"/Rate/USD/IDR/11-11-2022\">15,473.86895</a> IDR</td><td class=\"text-narrow-screen-hidden\"><a href=\"/Rate/USD/IDR/11-11-2022\">USD IDR rate for 11/11/2022</a></td></tr><tr><td>11/10/2022</td><td>Thursday</td><td><a href=\"/Rate/USD/IDR/11-10-2022\">15,519.50906</a> IDR</td><td class=\"text-narrow-screen-hidden\"><a href=\"/Rate/USD/IDR/11-10-2022\">USD IDR rate for 11/10/2022</a></td></tr><tr><td>11/9/2022</td><td>Wednesday</td><td><a href=\"/Rate/USD/IDR/11-9-2022\">15,691.50000</a> IDR</td><td class=\"text-narrow-screen-hidden\"><a href=\"/Rate/USD/IDR/11-9-2022\">USD IDR rate for 11/9/2022</a></td></tr><tr><td>11/8/2022</td><td>Tuesday</td><td><a href=\"/Rate/USD/IDR/11-8-2022\">15,638.12198</a> IDR</td><td class=\"text-narrow-screen-hidden\"><a href=\"/Rate/USD/IDR/11-8-2022\">USD IDR rate for 11/8/2022</a></td></tr><tr><td>11/7/2022</td><td>Monday</td><td><a href=\"/Rate/USD/IDR/11-7-2022\">15,685.02606</a> IDR</td><td class=\"text-narrow-screen-hidden\"><a href=\"/Rate/USD/IDR/11-7-2022\">USD IDR rate for 11/7/2022</a></td></tr><tr><td>11/4/2022</td><td>Friday</td><td><a href=\"/Rate/USD/IDR/11-4-2022\">15,614.50000</a> IDR</td><td class=\"text-narrow-screen-hidden\"><a href=\"/Rate/USD/IDR/11-4-2022\">USD IDR rate for 11/4/2022</a></td></tr><tr><td>11/3/2022</td><td>Thursday</td><td><a href=\"/Rate/USD/IDR/11-3-2022\">15,790.00000</a> IDR</td><td class=\"text-narrow-screen-hidden\"><a href=\"/Rate/USD/IDR/11-3-2022\">USD IDR rate for 11/3/2022</a></td></tr><tr><td>11/2/2022</td><td>Wednesday</td><td><a href=\"/Rate/USD/IDR/11-2-2022\">15,684.50000</a> IDR</td><td class=\"text-narrow-screen-hidden\"><a href=\"/Rate/USD/IDR/11-2-2022\">USD IDR rate for 11/2/2022</a></td></tr><tr><td>11/1/2022</td><td>Tuesday</td><td><a href=\"/Rate/USD/IDR/11-1-2022\">15,673.90000</a> IDR</td><td class=\"text-narrow-screen-hidden\"><a href=\"/Rate/USD/IDR/11-1-2022\">USD IDR rate for 11/1/2022</a></td></tr><tr><td>10/31/2022</td><td>Monday</td><td><a href=\"/Rate/USD/IDR/10-31-2022\">15,623.75000</a> IDR</td><td class=\"text-narrow-screen-hidden\"><a href=\"/Rate/USD/IDR/10-31-2022\">USD IDR rate for 10/31/2022</a></td></tr><tr><td>10/28/2022</td><td>Friday</td><td><a href=\"/Rate/USD/IDR/10-28-2022\">15,557.12089</a> IDR</td><td class=\"text-narrow-screen-hidden\"><a href=\"/Rate/USD/IDR/10-28-2022\">USD IDR rate for 10/28/2022</a></td></tr><tr><td>10/27/2022</td><td>Thursday</td><td><a href=\"/Rate/USD/IDR/10-27-2022\">15,560.25000</a> IDR</td><td class=\"text-narrow-screen-hidden\"><a href=\"/Rate/USD/IDR/10-27-2022\">USD IDR rate for 10/27/2022</a></td></tr><tr><td>10/26/2022</td><td>Wednesday</td><td><a href=\"/Rate/USD/IDR/10-26-2022\">15,502.75000</a> IDR</td><td class=\"text-narrow-screen-hidden\"><a href=\"/Rate/USD/IDR/10-26-2022\">USD IDR rate for 10/26/2022</a></td></tr><tr><td>10/25/2022</td><td>Tuesday</td><td><a href=\"/Rate/USD/IDR/10-25-2022\">15,533.00000</a> IDR</td><td class=\"text-narrow-screen-hidden\"><a href=\"/Rate/USD/IDR/10-25-2022\">USD IDR rate for 10/25/2022</a></td></tr><tr><td>10/24/2022</td><td>Monday</td><td><a href=\"/Rate/USD/IDR/10-24-2022\">15,597.90000</a> IDR</td><td class=\"text-narrow-screen-hidden\"><a href=\"/Rate/USD/IDR/10-24-2022\">USD IDR rate for 10/24/2022</a></td></tr><tr><td>10/21/2022</td><td>Friday</td><td><a href=\"/Rate/USD/IDR/10-21-2022\">15,537.20000</a> IDR</td><td class=\"text-narrow-screen-hidden\"><a href=\"/Rate/USD/IDR/10-21-2022\">USD IDR rate for 10/21/2022</a></td></tr><tr><td>10/20/2022</td><td>Thursday</td><td><a href=\"/Rate/USD/IDR/10-20-2022\">15,562.05000</a> IDR</td><td class=\"text-narrow-screen-hidden\"><a href=\"/Rate/USD/IDR/10-20-2022\">USD IDR rate for 10/20/2022</a></td></tr><tr><td>10/19/2022</td><td>Wednesday</td><td><a href=\"/Rate/USD/IDR/10-19-2022\">15,586.50000</a> IDR</td><td class=\"text-narrow-screen-hidden\"><a href=\"/Rate/USD/IDR/10-19-2022\">USD IDR rate for 10/19/2022</a></td></tr><tr><td>10/18/2022</td><td>Tuesday</td><td><a href=\"/Rate/USD/IDR/10-18-2022\">15,474.20000</a> IDR</td><td class=\"text-narrow-screen-hidden\"><a href=\"/Rate/USD/IDR/10-18-2022\">USD IDR rate for 10/18/2022</a></td></tr><tr><td>10/17/2022</td><td>Monday</td><td><a href=\"/Rate/USD/IDR/10-17-2022\">15,441.45000</a> IDR</td><td class=\"text-narrow-screen-hidden\"><a href=\"/Rate/USD/IDR/10-17-2022\">USD IDR rate for 10/17/2022</a></td></tr><tr><td>10/14/2022</td><td>Friday</td><td><a href=\"/Rate/USD/IDR/10-14-2022\">15,472.20000</a> IDR</td><td class=\"text-narrow-screen-hidden\"><a href=\"/Rate/USD/IDR/10-14-2022\">USD IDR rate for 10/14/2022</a></td></tr><tr><td>10/13/2022</td><td>Thursday</td><td><a href=\"/Rate/USD/IDR/10-13-2022\">15,371.90000</a> IDR</td><td class=\"text-narrow-screen-hidden\"><a href=\"/Rate/USD/IDR/10-13-2022\">USD IDR rate for 10/13/2022</a></td></tr><tr><td>10/12/2022</td><td>Wednesday</td><td><a href=\"/Rate/USD/IDR/10-12-2022\">15,318.65000</a> IDR</td><td class=\"text-narrow-screen-hidden\"><a href=\"/Rate/USD/IDR/10-12-2022\">USD IDR rate for 10/12/2022</a></td></tr><tr><td>10/11/2022</td><td>Tuesday</td><td><a href=\"/Rate/USD/IDR/10-11-2022\">15,353.90000</a> IDR</td><td class=\"text-narrow-screen-hidden\"><a href=\"/Rate/USD/IDR/10-11-2022\">USD IDR rate for 10/11/2022</a></td></tr><tr><td>10/10/2022</td><td>Monday</td><td><a href=\"/Rate/USD/IDR/10-10-2022\">15,320.70000</a> IDR</td><td class=\"text-narrow-screen-hidden\"><a href=\"/Rate/USD/IDR/10-10-2022\">USD IDR rate for 10/10/2022</a></td></tr><tr><td>10/7/2022</td><td>Friday</td><td><a href=\"/Rate/USD/IDR/10-7-2022\">15,290.70000</a> IDR</td><td class=\"text-narrow-screen-hidden\"><a href=\"/Rate/USD/IDR/10-7-2022\">USD IDR rate for 10/7/2022</a></td></tr><tr><td>10/6/2022</td><td>Thursday</td><td><a href=\"/Rate/USD/IDR/10-6-2022\">15,230.80000</a> IDR</td><td class=\"text-narrow-screen-hidden\"><a href=\"/Rate/USD/IDR/10-6-2022\">USD IDR rate for 10/6/2022</a></td></tr><tr><td>10/5/2022</td><td>Wednesday</td><td><a href=\"/Rate/USD/IDR/10-5-2022\">15,206.65000</a> IDR</td><td class=\"text-narrow-screen-hidden\"><a href=\"/Rate/USD/IDR/10-5-2022\">USD IDR rate for 10/5/2022</a></td></tr><tr><td>10/4/2022</td><td>Tuesday</td><td><a href=\"/Rate/USD/IDR/10-4-2022\">15,174.15000</a> IDR</td><td class=\"text-narrow-screen-hidden\"><a href=\"/Rate/USD/IDR/10-4-2022\">USD IDR rate for 10/4/2022</a></td></tr><tr><td>10/3/2022</td><td>Monday</td><td><a href=\"/Rate/USD/IDR/10-3-2022\">15,267.80000</a> IDR</td><td class=\"text-narrow-screen-hidden\"><a href=\"/Rate/USD/IDR/10-3-2022\">USD IDR rate for 10/3/2022</a></td></tr><tr><td>9/30/2022</td><td>Friday</td><td><a href=\"/Rate/USD/IDR/9-30-2022\">15,303.70000</a> IDR</td><td class=\"text-narrow-screen-hidden\"><a href=\"/Rate/USD/IDR/9-30-2022\">USD IDR rate for 9/30/2022</a></td></tr><tr><td>9/29/2022</td><td>Thursday</td><td><a href=\"/Rate/USD/IDR/9-29-2022\">15,187.20000</a> IDR</td><td class=\"text-narrow-screen-hidden\"><a href=\"/Rate/USD/IDR/9-29-2022\">USD IDR rate for 9/29/2022</a></td></tr><tr><td>9/28/2022</td><td>Wednesday</td><td><a href=\"/Rate/USD/IDR/9-28-2022\">15,175.25000</a> IDR</td><td class=\"text-narrow-screen-hidden\"><a href=\"/Rate/USD/IDR/9-28-2022\">USD IDR rate for 9/28/2022</a></td></tr><tr><td>9/27/2022</td><td>Tuesday</td><td><a href=\"/Rate/USD/IDR/9-27-2022\">15,171.70000</a> IDR</td><td class=\"text-narrow-screen-hidden\"><a href=\"/Rate/USD/IDR/9-27-2022\">USD IDR rate for 9/27/2022</a></td></tr><tr><td>9/26/2022</td><td>Monday</td><td><a href=\"/Rate/USD/IDR/9-26-2022\">15,190.70000</a> IDR</td><td class=\"text-narrow-screen-hidden\"><a href=\"/Rate/USD/IDR/9-26-2022\">USD IDR rate for 9/26/2022</a></td></tr><tr><td>9/23/2022</td><td>Friday</td><td><a href=\"/Rate/USD/IDR/9-23-2022\">15,112.36165</a> IDR</td><td class=\"text-narrow-screen-hidden\"><a href=\"/Rate/USD/IDR/9-23-2022\">USD IDR rate for 9/23/2022</a></td></tr><tr><td>9/22/2022</td><td>Thursday</td><td><a href=\"/Rate/USD/IDR/9-22-2022\">15,026.65000</a> IDR</td><td class=\"text-narrow-screen-hidden\"><a href=\"/Rate/USD/IDR/9-22-2022\">USD IDR rate for 9/22/2022</a></td></tr><tr><td>9/21/2022</td><td>Wednesday</td><td><a href=\"/Rate/USD/IDR/9-21-2022\">15,039.10000</a> IDR</td><td class=\"text-narrow-screen-hidden\"><a href=\"/Rate/USD/IDR/9-21-2022\">USD IDR rate for 9/21/2022</a></td></tr><tr><td>9/20/2022</td><td>Tuesday</td><td><a href=\"/Rate/USD/IDR/9-20-2022\">15,017.60000</a> IDR</td><td class=\"text-narrow-screen-hidden\"><a href=\"/Rate/USD/IDR/9-20-2022\">USD IDR rate for 9/20/2022</a></td></tr><tr><td>9/19/2022</td><td>Monday</td><td><a href=\"/Rate/USD/IDR/9-19-2022\">14,985.85000</a> IDR</td><td class=\"text-narrow-screen-hidden\"><a href=\"/Rate/USD/IDR/9-19-2022\">USD IDR rate for 9/19/2022</a></td></tr><tr><td>9/16/2022</td><td>Friday</td><td><a href=\"/Rate/USD/IDR/9-16-2022\">14,999.20000</a> IDR</td><td class=\"text-narrow-screen-hidden\"><a href=\"/Rate/USD/IDR/9-16-2022\">USD IDR rate for 9/16/2022</a></td></tr><tr><td>9/15/2022</td><td>Thursday</td><td><a href=\"/Rate/USD/IDR/9-15-2022\">14,942.60000</a> IDR</td><td class=\"text-narrow-screen-hidden\"><a href=\"/Rate/USD/IDR/9-15-2022\">USD IDR rate for 9/15/2022</a></td></tr><tr><td>9/14/2022</td><td>Wednesday</td><td><a href=\"/Rate/USD/IDR/9-14-2022\">14,910.50000</a> IDR</td><td class=\"text-narrow-screen-hidden\"><a href=\"/Rate/USD/IDR/9-14-2022\">USD IDR rate for 9/14/2022</a></td></tr><tr><td>9/13/2022</td><td>Tuesday</td><td><a href=\"/Rate/USD/IDR/9-13-2022\">14,967.30000</a> IDR</td><td class=\"text-narrow-screen-hidden\"><a href=\"/Rate/USD/IDR/9-13-2022\">USD IDR rate for 9/13/2022</a></td></tr><tr><td>9/12/2022</td><td>Monday</td><td><a href=\"/Rate/USD/IDR/9-12-2022\">14,860.60000</a> IDR</td><td class=\"text-narrow-screen-hidden\"><a href=\"/Rate/USD/IDR/9-12-2022\">USD IDR rate for 9/12/2022</a></td></tr><tr><td>9/9/2022</td><td>Friday</td><td><a href=\"/Rate/USD/IDR/9-9-2022\">14,836.30000</a> IDR</td><td class=\"text-narrow-screen-hidden\"><a href=\"/Rate/USD/IDR/9-9-2022\">USD IDR rate for 9/9/2022</a></td></tr><tr><td>9/8/2022</td><td>Thursday</td><td><a href=\"/Rate/USD/IDR/9-8-2022\">14,894.20000</a> IDR</td><td class=\"text-narrow-screen-hidden\"><a href=\"/Rate/USD/IDR/9-8-2022\">USD IDR rate for 9/8/2022</a></td></tr><tr><td>9/7/2022</td><td>Wednesday</td><td><a href=\"/Rate/USD/IDR/9-7-2022\">14,908.30000</a> IDR</td><td class=\"text-narrow-screen-hidden\"><a href=\"/Rate/USD/IDR/9-7-2022\">USD IDR rate for 9/7/2022</a></td></tr><tr><td>9/6/2022</td><td>Tuesday</td><td><a href=\"/Rate/USD/IDR/9-6-2022\">14,900.50000</a> IDR</td><td class=\"text-narrow-screen-hidden\"><a href=\"/Rate/USD/IDR/9-6-2022\">USD IDR rate for 9/6/2022</a></td></tr><tr><td>9/5/2022</td><td>Monday</td><td><a href=\"/Rate/USD/IDR/9-5-2022\">14,889.50000</a> IDR</td><td class=\"text-narrow-screen-hidden\"><a href=\"/Rate/USD/IDR/9-5-2022\">USD IDR rate for 9/5/2022</a></td></tr><tr><td>9/2/2022</td><td>Friday</td><td><a href=\"/Rate/USD/IDR/9-2-2022\">14,892.30000</a> IDR</td><td class=\"text-narrow-screen-hidden\"><a href=\"/Rate/USD/IDR/9-2-2022\">USD IDR rate for 9/2/2022</a></td></tr><tr><td>9/1/2022</td><td>Thursday</td><td><a href=\"/Rate/USD/IDR/9-1-2022\">14,902.15000</a> IDR</td><td class=\"text-narrow-screen-hidden\"><a href=\"/Rate/USD/IDR/9-1-2022\">USD IDR rate for 9/1/2022</a></td></tr><tr><td>8/31/2022</td><td>Wednesday</td><td><a href=\"/Rate/USD/IDR/8-31-2022\">14,848.70000</a> IDR</td><td class=\"text-narrow-screen-hidden\"><a href=\"/Rate/USD/IDR/8-31-2022\">USD IDR rate for 8/31/2022</a></td></tr><tr><td>8/30/2022</td><td>Tuesday</td><td><a href=\"/Rate/USD/IDR/8-30-2022\">14,851.00000</a> IDR</td><td class=\"text-narrow-screen-hidden\"><a href=\"/Rate/USD/IDR/8-30-2022\">USD IDR rate for 8/30/2022</a></td></tr><tr><td>8/29/2022</td><td>Monday</td><td><a href=\"/Rate/USD/IDR/8-29-2022\">14,886.25000</a> IDR</td><td class=\"text-narrow-screen-hidden\"><a href=\"/Rate/USD/IDR/8-29-2022\">USD IDR rate for 8/29/2022</a></td></tr><tr><td>8/26/2022</td><td>Friday</td><td><a href=\"/Rate/USD/IDR/8-26-2022\">14,829.95000</a> IDR</td><td class=\"text-narrow-screen-hidden\"><a href=\"/Rate/USD/IDR/8-26-2022\">USD IDR rate for 8/26/2022</a></td></tr><tr><td>8/25/2022</td><td>Thursday</td><td><a href=\"/Rate/USD/IDR/8-25-2022\">14,774.80000</a> IDR</td><td class=\"text-narrow-screen-hidden\"><a href=\"/Rate/USD/IDR/8-25-2022\">USD IDR rate for 8/25/2022</a></td></tr><tr><td>8/24/2022</td><td>Wednesday</td><td><a href=\"/Rate/USD/IDR/8-24-2022\">14,836.40000</a> IDR</td><td class=\"text-narrow-screen-hidden\"><a href=\"/Rate/USD/IDR/8-24-2022\">USD IDR rate for 8/24/2022</a></td></tr><tr><td>8/23/2022</td><td>Tuesday</td><td><a href=\"/Rate/USD/IDR/8-23-2022\">14,851.40000</a> IDR</td><td class=\"text-narrow-screen-hidden\"><a href=\"/Rate/USD/IDR/8-23-2022\">USD IDR rate for 8/23/2022</a></td></tr><tr><td>8/22/2022</td><td>Monday</td><td><a href=\"/Rate/USD/IDR/8-22-2022\">14,910.85000</a> IDR</td><td class=\"text-narrow-screen-hidden\"><a href=\"/Rate/USD/IDR/8-22-2022\">USD IDR rate for 8/22/2022</a></td></tr><tr><td>8/19/2022</td><td>Friday</td><td><a href=\"/Rate/USD/IDR/8-19-2022\">14,875.40000</a> IDR</td><td class=\"text-narrow-screen-hidden\"><a href=\"/Rate/USD/IDR/8-19-2022\">USD IDR rate for 8/19/2022</a></td></tr><tr><td>8/18/2022</td><td>Thursday</td><td><a href=\"/Rate/USD/IDR/8-18-2022\">14,849.35000</a> IDR</td><td class=\"text-narrow-screen-hidden\"><a href=\"/Rate/USD/IDR/8-18-2022\">USD IDR rate for 8/18/2022</a></td></tr><tr><td>8/17/2022</td><td>Wednesday</td><td><a href=\"/Rate/USD/IDR/8-17-2022\">14,770.20000</a> IDR</td><td class=\"text-narrow-screen-hidden\"><a href=\"/Rate/USD/IDR/8-17-2022\">USD IDR rate for 8/17/2022</a></td></tr><tr><td>8/16/2022</td><td>Tuesday</td><td><a href=\"/Rate/USD/IDR/8-16-2022\">14,749.60000</a> IDR</td><td class=\"text-narrow-screen-hidden\"><a href=\"/Rate/USD/IDR/8-16-2022\">USD IDR rate for 8/16/2022</a></td></tr><tr><td>8/15/2022</td><td>Monday</td><td><a href=\"/Rate/USD/IDR/8-15-2022\">14,776.45000</a> IDR</td><td class=\"text-narrow-screen-hidden\"><a href=\"/Rate/USD/IDR/8-15-2022\">USD IDR rate for 8/15/2022</a></td></tr><tr><td>8/12/2022</td><td>Friday</td><td><a href=\"/Rate/USD/IDR/8-12-2022\">14,661.07616</a> IDR</td><td class=\"text-narrow-screen-hidden\"><a href=\"/Rate/USD/IDR/8-12-2022\">USD IDR rate for 8/12/2022</a></td></tr><tr><td>8/11/2022</td><td>Thursday</td><td><a href=\"/Rate/USD/IDR/8-11-2022\">14,732.30000</a> IDR</td><td class=\"text-narrow-screen-hidden\"><a href=\"/Rate/USD/IDR/8-11-2022\">USD IDR rate for 8/11/2022</a></td></tr><tr><td>8/10/2022</td><td>Wednesday</td><td><a href=\"/Rate/USD/IDR/8-10-2022\">14,766.50000</a> IDR</td><td class=\"text-narrow-screen-hidden\"><a href=\"/Rate/USD/IDR/8-10-2022\">USD IDR rate for 8/10/2022</a></td></tr><tr><td>8/9/2022</td><td>Tuesday</td><td><a href=\"/Rate/USD/IDR/8-9-2022\">14,860.00000</a> IDR</td><td class=\"text-narrow-screen-hidden\"><a href=\"/Rate/USD/IDR/8-9-2022\">USD IDR rate for 8/9/2022</a></td></tr><tr><td>8/8/2022</td><td>Monday</td><td><a href=\"/Rate/USD/IDR/8-8-2022\">14,831.25000</a> IDR</td><td class=\"text-narrow-screen-hidden\"><a href=\"/Rate/USD/IDR/8-8-2022\">USD IDR rate for 8/8/2022</a></td></tr><tr><td>8/5/2022</td><td>Friday</td><td><a href=\"/Rate/USD/IDR/8-5-2022\">14,946.00000</a> IDR</td><td class=\"text-narrow-screen-hidden\"><a href=\"/Rate/USD/IDR/8-5-2022\">USD IDR rate for 8/5/2022</a></td></tr><tr><td>8/4/2022</td><td>Thursday</td><td><a href=\"/Rate/USD/IDR/8-4-2022\">14,889.80000</a> IDR</td><td class=\"text-narrow-screen-hidden\"><a href=\"/Rate/USD/IDR/8-4-2022\">USD IDR rate for 8/4/2022</a></td></tr><tr><td>8/3/2022</td><td>Wednesday</td><td><a href=\"/Rate/USD/IDR/8-3-2022\">14,886.30000</a> IDR</td><td class=\"text-narrow-screen-hidden\"><a href=\"/Rate/USD/IDR/8-3-2022\">USD IDR rate for 8/3/2022</a></td></tr><tr><td>8/2/2022</td><td>Tuesday</td><td><a href=\"/Rate/USD/IDR/8-2-2022\">14,895.10000</a> IDR</td><td class=\"text-narrow-screen-hidden\"><a href=\"/Rate/USD/IDR/8-2-2022\">USD IDR rate for 8/2/2022</a></td></tr><tr><td>8/1/2022</td><td>Monday</td><td><a href=\"/Rate/USD/IDR/8-1-2022\">14,840.98333</a> IDR</td><td class=\"text-narrow-screen-hidden\"><a href=\"/Rate/USD/IDR/8-1-2022\">USD IDR rate for 8/1/2022</a></td></tr><tr><td>7/29/2022</td><td>Friday</td><td><a href=\"/Rate/USD/IDR/7-29-2022\">14,815.40000</a> IDR</td><td class=\"text-narrow-screen-hidden\"><a href=\"/Rate/USD/IDR/7-29-2022\">USD IDR rate for 7/29/2022</a></td></tr><tr><td>7/28/2022</td><td>Thursday</td><td><a href=\"/Rate/USD/IDR/7-28-2022\">14,849.65000</a> IDR</td><td class=\"text-narrow-screen-hidden\"><a href=\"/Rate/USD/IDR/7-28-2022\">USD IDR rate for 7/28/2022</a></td></tr><tr><td>7/27/2022</td><td>Wednesday</td><td><a href=\"/Rate/USD/IDR/7-27-2022\">14,920.70000</a> IDR</td><td class=\"text-narrow-screen-hidden\"><a href=\"/Rate/USD/IDR/7-27-2022\">USD IDR rate for 7/27/2022</a></td></tr><tr><td>7/26/2022</td><td>Tuesday</td><td><a href=\"/Rate/USD/IDR/7-26-2022\">14,990.25000</a> IDR</td><td class=\"text-narrow-screen-hidden\"><a href=\"/Rate/USD/IDR/7-26-2022\">USD IDR rate for 7/26/2022</a></td></tr><tr><td>7/25/2022</td><td>Monday</td><td><a href=\"/Rate/USD/IDR/7-25-2022\">14,969.70000</a> IDR</td><td class=\"text-narrow-screen-hidden\"><a href=\"/Rate/USD/IDR/7-25-2022\">USD IDR rate for 7/25/2022</a></td></tr><tr><td>7/22/2022</td><td>Friday</td><td><a href=\"/Rate/USD/IDR/7-22-2022\">14,978.00000</a> IDR</td><td class=\"text-narrow-screen-hidden\"><a href=\"/Rate/USD/IDR/7-22-2022\">USD IDR rate for 7/22/2022</a></td></tr><tr><td>7/21/2022</td><td>Thursday</td><td><a href=\"/Rate/USD/IDR/7-21-2022\">15,015.55000</a> IDR</td><td class=\"text-narrow-screen-hidden\"><a href=\"/Rate/USD/IDR/7-21-2022\">USD IDR rate for 7/21/2022</a></td></tr><tr><td>7/20/2022</td><td>Wednesday</td><td><a href=\"/Rate/USD/IDR/7-20-2022\">14,976.15000</a> IDR</td><td class=\"text-narrow-screen-hidden\"><a href=\"/Rate/USD/IDR/7-20-2022\">USD IDR rate for 7/20/2022</a></td></tr><tr><td>7/19/2022</td><td>Tuesday</td><td><a href=\"/Rate/USD/IDR/7-19-2022\">14,960.85000</a> IDR</td><td class=\"text-narrow-screen-hidden\"><a href=\"/Rate/USD/IDR/7-19-2022\">USD IDR rate for 7/19/2022</a></td></tr><tr><td>7/18/2022</td><td>Monday</td><td><a href=\"/Rate/USD/IDR/7-18-2022\">14,981.10000</a> IDR</td><td class=\"text-narrow-screen-hidden\"><a href=\"/Rate/USD/IDR/7-18-2022\">USD IDR rate for 7/18/2022</a></td></tr><tr><td>7/15/2022</td><td>Friday</td><td><a href=\"/Rate/USD/IDR/7-15-2022\">14,996.35000</a> IDR</td><td class=\"text-narrow-screen-hidden\"><a href=\"/Rate/USD/IDR/7-15-2022\">USD IDR rate for 7/15/2022</a></td></tr><tr><td>7/14/2022</td><td>Thursday</td><td><a href=\"/Rate/USD/IDR/7-14-2022\">15,045.60000</a> IDR</td><td class=\"text-narrow-screen-hidden\"><a href=\"/Rate/USD/IDR/7-14-2022\">USD IDR rate for 7/14/2022</a></td></tr><tr><td>7/13/2022</td><td>Wednesday</td><td><a href=\"/Rate/USD/IDR/7-13-2022\">15,030.45000</a> IDR</td><td class=\"text-narrow-screen-hidden\"><a href=\"/Rate/USD/IDR/7-13-2022\">USD IDR rate for 7/13/2022</a></td></tr><tr><td>7/12/2022</td><td>Tuesday</td><td><a href=\"/Rate/USD/IDR/7-12-2022\">14,984.00000</a> IDR</td><td class=\"text-narrow-screen-hidden\"><a href=\"/Rate/USD/IDR/7-12-2022\">USD IDR rate for 7/12/2022</a></td></tr><tr><td>7/11/2022</td><td>Monday</td><td><a href=\"/Rate/USD/IDR/7-11-2022\">15,010.52059</a> IDR</td><td class=\"text-narrow-screen-hidden\"><a href=\"/Rate/USD/IDR/7-11-2022\">USD IDR rate for 7/11/2022</a></td></tr>\n",
      "</tbody>\n",
      "</table>\n"
     ]
    }
   ],
   "source": [
    "data = []\n",
    "count_page = 100\n",
    "\n",
    "# Get Count page from count car\n",
    "url = \"https://www.exchange-rates.org/history/IDR/USD/T\" \n",
    "item_content = requests.get(url)\n",
    "soup = BeautifulSoup(item_content.content, 'html.parser')\n",
    "span_count_rate = soup.find('table' , {\"table table-striped table-hover table-hover-solid-row table-simple history-data\"})\n",
    "\n",
    "print(span_count_rate)\n"
   ]
  },
  {
   "cell_type": "code",
   "execution_count": 143,
   "id": "040b9306",
   "metadata": {},
   "outputs": [],
   "source": [
    "\n",
    "\n",
    "data = []\n",
    "dataFrame = []\n",
    "table = span_count_rate\n",
    "table_body = table.find('tbody')\n",
    "\n",
    "rows = table_body.find_all('tr')\n",
    "for row in rows:\n",
    "    cols = row.find_all('td')\n",
    "    cols = [ele.text.strip() for ele in cols]\n",
    "    data.append([ele for ele in cols if ele]) # Get rid of empty values\n",
    "\n",
    "for val in data :\n",
    "    dataFrame.append({\n",
    "        'Date' : val[0],\n",
    "        'Day' : val[1],\n",
    "        'Rate' : Decimal(val[2].replace('IDR', '').replace(\",\",\"\")),\n",
    "        'Remark' : val[3]\n",
    "    })\n",
    "dfCurrency = pd.DataFrame(dataFrame)"
   ]
  },
  {
   "cell_type": "code",
   "execution_count": 145,
   "id": "5f91f414",
   "metadata": {},
   "outputs": [
    {
     "name": "stdout",
     "output_type": "stream",
     "text": [
      "          Date        Day         Rate                      Remark\n",
      "0     1/6/2023     Friday  15607.20000   USD IDR rate for 1/6/2023\n",
      "1     1/5/2023   Thursday  15635.20000   USD IDR rate for 1/5/2023\n",
      "2     1/4/2023  Wednesday  15581.95000   USD IDR rate for 1/4/2023\n",
      "3     1/3/2023    Tuesday  15594.30000   USD IDR rate for 1/3/2023\n",
      "4     1/2/2023     Monday  15554.00000   USD IDR rate for 1/2/2023\n",
      "..         ...        ...          ...                         ...\n",
      "125  7/15/2022     Friday  14996.35000  USD IDR rate for 7/15/2022\n",
      "126  7/14/2022   Thursday  15045.60000  USD IDR rate for 7/14/2022\n",
      "127  7/13/2022  Wednesday  15030.45000  USD IDR rate for 7/13/2022\n",
      "128  7/12/2022    Tuesday  14984.00000  USD IDR rate for 7/12/2022\n",
      "129  7/11/2022     Monday  15010.52059  USD IDR rate for 7/11/2022\n",
      "\n",
      "[130 rows x 4 columns]\n"
     ]
    }
   ],
   "source": [
    "print(dfCurrency)"
   ]
  },
  {
   "cell_type": "code",
   "execution_count": 146,
   "id": "33a69253",
   "metadata": {},
   "outputs": [
    {
     "name": "stdout",
     "output_type": "stream",
     "text": [
      "          Date        Day         Rate                      Remark\n",
      "0     1/6/2023     Friday  15607.20000   USD IDR rate for 1/6/2023\n",
      "1     1/5/2023   Thursday  15635.20000   USD IDR rate for 1/5/2023\n",
      "2     1/4/2023  Wednesday  15581.95000   USD IDR rate for 1/4/2023\n",
      "3     1/3/2023    Tuesday  15594.30000   USD IDR rate for 1/3/2023\n",
      "4     1/2/2023     Monday  15554.00000   USD IDR rate for 1/2/2023\n",
      "..         ...        ...          ...                         ...\n",
      "125  7/15/2022     Friday  14996.35000  USD IDR rate for 7/15/2022\n",
      "126  7/14/2022   Thursday  15045.60000  USD IDR rate for 7/14/2022\n",
      "127  7/13/2022  Wednesday  15030.45000  USD IDR rate for 7/13/2022\n",
      "128  7/12/2022    Tuesday  14984.00000  USD IDR rate for 7/12/2022\n",
      "129  7/11/2022     Monday  15010.52059  USD IDR rate for 7/11/2022\n",
      "\n",
      "[130 rows x 4 columns]\n"
     ]
    }
   ],
   "source": [
    "dfCurrency.to_csv('currency.csv', sep=';', index=False, header=True)\n",
    "print(dfCurrency)"
   ]
  },
  {
   "cell_type": "code",
   "execution_count": 147,
   "id": "84b98140",
   "metadata": {},
   "outputs": [],
   "source": [
    "df = pd.read_csv(\"currency.csv\", sep = \";\")"
   ]
  },
  {
   "cell_type": "code",
   "execution_count": 148,
   "id": "2d37f08f",
   "metadata": {},
   "outputs": [
    {
     "data": {
      "text/html": [
       "<div>\n",
       "<style scoped>\n",
       "    .dataframe tbody tr th:only-of-type {\n",
       "        vertical-align: middle;\n",
       "    }\n",
       "\n",
       "    .dataframe tbody tr th {\n",
       "        vertical-align: top;\n",
       "    }\n",
       "\n",
       "    .dataframe thead th {\n",
       "        text-align: right;\n",
       "    }\n",
       "</style>\n",
       "<table border=\"1\" class=\"dataframe\">\n",
       "  <thead>\n",
       "    <tr style=\"text-align: right;\">\n",
       "      <th></th>\n",
       "      <th>Date</th>\n",
       "      <th>Day</th>\n",
       "      <th>Rate</th>\n",
       "      <th>Remark</th>\n",
       "    </tr>\n",
       "  </thead>\n",
       "  <tbody>\n",
       "    <tr>\n",
       "      <th>0</th>\n",
       "      <td>1/6/2023</td>\n",
       "      <td>Friday</td>\n",
       "      <td>15607.20</td>\n",
       "      <td>USD IDR rate for 1/6/2023</td>\n",
       "    </tr>\n",
       "    <tr>\n",
       "      <th>1</th>\n",
       "      <td>1/5/2023</td>\n",
       "      <td>Thursday</td>\n",
       "      <td>15635.20</td>\n",
       "      <td>USD IDR rate for 1/5/2023</td>\n",
       "    </tr>\n",
       "    <tr>\n",
       "      <th>2</th>\n",
       "      <td>1/4/2023</td>\n",
       "      <td>Wednesday</td>\n",
       "      <td>15581.95</td>\n",
       "      <td>USD IDR rate for 1/4/2023</td>\n",
       "    </tr>\n",
       "    <tr>\n",
       "      <th>3</th>\n",
       "      <td>1/3/2023</td>\n",
       "      <td>Tuesday</td>\n",
       "      <td>15594.30</td>\n",
       "      <td>USD IDR rate for 1/3/2023</td>\n",
       "    </tr>\n",
       "    <tr>\n",
       "      <th>4</th>\n",
       "      <td>1/2/2023</td>\n",
       "      <td>Monday</td>\n",
       "      <td>15554.00</td>\n",
       "      <td>USD IDR rate for 1/2/2023</td>\n",
       "    </tr>\n",
       "  </tbody>\n",
       "</table>\n",
       "</div>"
      ],
      "text/plain": [
       "       Date        Day      Rate                     Remark\n",
       "0  1/6/2023     Friday  15607.20  USD IDR rate for 1/6/2023\n",
       "1  1/5/2023   Thursday  15635.20  USD IDR rate for 1/5/2023\n",
       "2  1/4/2023  Wednesday  15581.95  USD IDR rate for 1/4/2023\n",
       "3  1/3/2023    Tuesday  15594.30  USD IDR rate for 1/3/2023\n",
       "4  1/2/2023     Monday  15554.00  USD IDR rate for 1/2/2023"
      ]
     },
     "execution_count": 148,
     "metadata": {},
     "output_type": "execute_result"
    }
   ],
   "source": [
    "df.head()"
   ]
  },
  {
   "cell_type": "code",
   "execution_count": 149,
   "id": "f6b207b6",
   "metadata": {},
   "outputs": [
    {
     "name": "stdout",
     "output_type": "stream",
     "text": [
      "<class 'pandas.core.frame.DataFrame'>\n",
      "RangeIndex: 130 entries, 0 to 129\n",
      "Data columns (total 4 columns):\n",
      " #   Column  Non-Null Count  Dtype  \n",
      "---  ------  --------------  -----  \n",
      " 0   Date    130 non-null    object \n",
      " 1   Day     130 non-null    object \n",
      " 2   Rate    130 non-null    float64\n",
      " 3   Remark  130 non-null    object \n",
      "dtypes: float64(1), object(3)\n",
      "memory usage: 4.2+ KB\n"
     ]
    }
   ],
   "source": [
    "df.info()"
   ]
  },
  {
   "cell_type": "code",
   "execution_count": 159,
   "id": "6235215a",
   "metadata": {},
   "outputs": [],
   "source": [
    "df_1 = df.copy() "
   ]
  },
  {
   "cell_type": "code",
   "execution_count": 160,
   "id": "ffbc2f96",
   "metadata": {},
   "outputs": [],
   "source": [
    "df_1['Date'] = df_1['Date'].astype('datetime64')\n",
    "df_1['Day'] = df_1['Day'].astype('category')"
   ]
  },
  {
   "cell_type": "code",
   "execution_count": 161,
   "id": "ee79d897",
   "metadata": {},
   "outputs": [
    {
     "name": "stdout",
     "output_type": "stream",
     "text": [
      "<class 'pandas.core.frame.DataFrame'>\n",
      "RangeIndex: 130 entries, 0 to 129\n",
      "Data columns (total 4 columns):\n",
      " #   Column  Non-Null Count  Dtype         \n",
      "---  ------  --------------  -----         \n",
      " 0   Date    130 non-null    datetime64[ns]\n",
      " 1   Day     130 non-null    category      \n",
      " 2   Rate    130 non-null    float64       \n",
      " 3   Remark  130 non-null    object        \n",
      "dtypes: category(1), datetime64[ns](1), float64(1), object(1)\n",
      "memory usage: 3.5+ KB\n"
     ]
    }
   ],
   "source": [
    "df_1.info()"
   ]
  },
  {
   "cell_type": "code",
   "execution_count": 166,
   "id": "0d617a89",
   "metadata": {},
   "outputs": [
    {
     "data": {
      "text/html": [
       "<div>\n",
       "<style scoped>\n",
       "    .dataframe tbody tr th:only-of-type {\n",
       "        vertical-align: middle;\n",
       "    }\n",
       "\n",
       "    .dataframe tbody tr th {\n",
       "        vertical-align: top;\n",
       "    }\n",
       "\n",
       "    .dataframe thead th {\n",
       "        text-align: right;\n",
       "    }\n",
       "</style>\n",
       "<table border=\"1\" class=\"dataframe\">\n",
       "  <thead>\n",
       "    <tr style=\"text-align: right;\">\n",
       "      <th>Day</th>\n",
       "      <th>Friday</th>\n",
       "      <th>Monday</th>\n",
       "      <th>Thursday</th>\n",
       "      <th>Tuesday</th>\n",
       "      <th>Wednesday</th>\n",
       "    </tr>\n",
       "    <tr>\n",
       "      <th>Rate</th>\n",
       "      <th></th>\n",
       "      <th></th>\n",
       "      <th></th>\n",
       "      <th></th>\n",
       "      <th></th>\n",
       "    </tr>\n",
       "  </thead>\n",
       "  <tbody>\n",
       "    <tr>\n",
       "      <th>14661.07616</th>\n",
       "      <td>1</td>\n",
       "      <td>0</td>\n",
       "      <td>0</td>\n",
       "      <td>0</td>\n",
       "      <td>0</td>\n",
       "    </tr>\n",
       "    <tr>\n",
       "      <th>14732.30000</th>\n",
       "      <td>0</td>\n",
       "      <td>0</td>\n",
       "      <td>1</td>\n",
       "      <td>0</td>\n",
       "      <td>0</td>\n",
       "    </tr>\n",
       "    <tr>\n",
       "      <th>14749.60000</th>\n",
       "      <td>0</td>\n",
       "      <td>0</td>\n",
       "      <td>0</td>\n",
       "      <td>1</td>\n",
       "      <td>0</td>\n",
       "    </tr>\n",
       "    <tr>\n",
       "      <th>14766.50000</th>\n",
       "      <td>0</td>\n",
       "      <td>0</td>\n",
       "      <td>0</td>\n",
       "      <td>0</td>\n",
       "      <td>1</td>\n",
       "    </tr>\n",
       "    <tr>\n",
       "      <th>14770.20000</th>\n",
       "      <td>0</td>\n",
       "      <td>0</td>\n",
       "      <td>0</td>\n",
       "      <td>0</td>\n",
       "      <td>1</td>\n",
       "    </tr>\n",
       "    <tr>\n",
       "      <th>...</th>\n",
       "      <td>...</td>\n",
       "      <td>...</td>\n",
       "      <td>...</td>\n",
       "      <td>...</td>\n",
       "      <td>...</td>\n",
       "    </tr>\n",
       "    <tr>\n",
       "      <th>15733.50000</th>\n",
       "      <td>0</td>\n",
       "      <td>0</td>\n",
       "      <td>0</td>\n",
       "      <td>1</td>\n",
       "      <td>0</td>\n",
       "    </tr>\n",
       "    <tr>\n",
       "      <th>15740.80000</th>\n",
       "      <td>0</td>\n",
       "      <td>1</td>\n",
       "      <td>0</td>\n",
       "      <td>0</td>\n",
       "      <td>0</td>\n",
       "    </tr>\n",
       "    <tr>\n",
       "      <th>15742.83672</th>\n",
       "      <td>0</td>\n",
       "      <td>1</td>\n",
       "      <td>0</td>\n",
       "      <td>0</td>\n",
       "      <td>0</td>\n",
       "    </tr>\n",
       "    <tr>\n",
       "      <th>15788.95000</th>\n",
       "      <td>0</td>\n",
       "      <td>0</td>\n",
       "      <td>0</td>\n",
       "      <td>0</td>\n",
       "      <td>1</td>\n",
       "    </tr>\n",
       "    <tr>\n",
       "      <th>15790.00000</th>\n",
       "      <td>0</td>\n",
       "      <td>0</td>\n",
       "      <td>1</td>\n",
       "      <td>0</td>\n",
       "      <td>0</td>\n",
       "    </tr>\n",
       "  </tbody>\n",
       "</table>\n",
       "<p>130 rows × 5 columns</p>\n",
       "</div>"
      ],
      "text/plain": [
       "Day          Friday  Monday  Thursday  Tuesday  Wednesday\n",
       "Rate                                                     \n",
       "14661.07616       1       0         0        0          0\n",
       "14732.30000       0       0         1        0          0\n",
       "14749.60000       0       0         0        1          0\n",
       "14766.50000       0       0         0        0          1\n",
       "14770.20000       0       0         0        0          1\n",
       "...             ...     ...       ...      ...        ...\n",
       "15733.50000       0       0         0        1          0\n",
       "15740.80000       0       1         0        0          0\n",
       "15742.83672       0       1         0        0          0\n",
       "15788.95000       0       0         0        0          1\n",
       "15790.00000       0       0         1        0          0\n",
       "\n",
       "[130 rows x 5 columns]"
      ]
     },
     "execution_count": 166,
     "metadata": {},
     "output_type": "execute_result"
    }
   ],
   "source": [
    "crosstab_frekuensi = pd.crosstab(\n",
    "    index=df_1['Rate'],  \n",
    "    columns=df_1['Day'] \n",
    ")\n",
    "crosstab_frekuensi"
   ]
  },
  {
   "cell_type": "code",
   "execution_count": 176,
   "id": "94782426",
   "metadata": {},
   "outputs": [
    {
     "data": {
      "text/html": [
       "<div>\n",
       "<style scoped>\n",
       "    .dataframe tbody tr th:only-of-type {\n",
       "        vertical-align: middle;\n",
       "    }\n",
       "\n",
       "    .dataframe tbody tr th {\n",
       "        vertical-align: top;\n",
       "    }\n",
       "\n",
       "    .dataframe thead th {\n",
       "        text-align: right;\n",
       "    }\n",
       "</style>\n",
       "<table border=\"1\" class=\"dataframe\">\n",
       "  <thead>\n",
       "    <tr style=\"text-align: right;\">\n",
       "      <th>Day</th>\n",
       "      <th>Friday</th>\n",
       "      <th>Monday</th>\n",
       "      <th>Thursday</th>\n",
       "      <th>Tuesday</th>\n",
       "      <th>Wednesday</th>\n",
       "    </tr>\n",
       "    <tr>\n",
       "      <th>Rate</th>\n",
       "      <th></th>\n",
       "      <th></th>\n",
       "      <th></th>\n",
       "      <th></th>\n",
       "      <th></th>\n",
       "    </tr>\n",
       "  </thead>\n",
       "  <tbody>\n",
       "    <tr>\n",
       "      <th>14661.07616</th>\n",
       "      <td>2022-08-12 00:00:00</td>\n",
       "      <td>0</td>\n",
       "      <td>0</td>\n",
       "      <td>0</td>\n",
       "      <td>0</td>\n",
       "    </tr>\n",
       "    <tr>\n",
       "      <th>14732.30000</th>\n",
       "      <td>0</td>\n",
       "      <td>0</td>\n",
       "      <td>2022-08-11 00:00:00</td>\n",
       "      <td>0</td>\n",
       "      <td>0</td>\n",
       "    </tr>\n",
       "    <tr>\n",
       "      <th>14749.60000</th>\n",
       "      <td>0</td>\n",
       "      <td>0</td>\n",
       "      <td>0</td>\n",
       "      <td>2022-08-16 00:00:00</td>\n",
       "      <td>0</td>\n",
       "    </tr>\n",
       "    <tr>\n",
       "      <th>14766.50000</th>\n",
       "      <td>0</td>\n",
       "      <td>0</td>\n",
       "      <td>0</td>\n",
       "      <td>0</td>\n",
       "      <td>2022-08-10 00:00:00</td>\n",
       "    </tr>\n",
       "    <tr>\n",
       "      <th>14770.20000</th>\n",
       "      <td>0</td>\n",
       "      <td>0</td>\n",
       "      <td>0</td>\n",
       "      <td>0</td>\n",
       "      <td>2022-08-17 00:00:00</td>\n",
       "    </tr>\n",
       "    <tr>\n",
       "      <th>...</th>\n",
       "      <td>...</td>\n",
       "      <td>...</td>\n",
       "      <td>...</td>\n",
       "      <td>...</td>\n",
       "      <td>...</td>\n",
       "    </tr>\n",
       "    <tr>\n",
       "      <th>15733.50000</th>\n",
       "      <td>0</td>\n",
       "      <td>0</td>\n",
       "      <td>0</td>\n",
       "      <td>2022-11-29 00:00:00</td>\n",
       "      <td>0</td>\n",
       "    </tr>\n",
       "    <tr>\n",
       "      <th>15740.80000</th>\n",
       "      <td>0</td>\n",
       "      <td>2022-11-21 00:00:00</td>\n",
       "      <td>0</td>\n",
       "      <td>0</td>\n",
       "      <td>0</td>\n",
       "    </tr>\n",
       "    <tr>\n",
       "      <th>15742.83672</th>\n",
       "      <td>0</td>\n",
       "      <td>2022-11-28 00:00:00</td>\n",
       "      <td>0</td>\n",
       "      <td>0</td>\n",
       "      <td>0</td>\n",
       "    </tr>\n",
       "    <tr>\n",
       "      <th>15788.95000</th>\n",
       "      <td>0</td>\n",
       "      <td>0</td>\n",
       "      <td>0</td>\n",
       "      <td>0</td>\n",
       "      <td>2022-12-28 00:00:00</td>\n",
       "    </tr>\n",
       "    <tr>\n",
       "      <th>15790.00000</th>\n",
       "      <td>0</td>\n",
       "      <td>0</td>\n",
       "      <td>2022-11-03 00:00:00</td>\n",
       "      <td>0</td>\n",
       "      <td>0</td>\n",
       "    </tr>\n",
       "  </tbody>\n",
       "</table>\n",
       "<p>130 rows × 5 columns</p>\n",
       "</div>"
      ],
      "text/plain": [
       "Day                       Friday               Monday             Thursday  \\\n",
       "Rate                                                                         \n",
       "14661.07616  2022-08-12 00:00:00                    0                    0   \n",
       "14732.30000                    0                    0  2022-08-11 00:00:00   \n",
       "14749.60000                    0                    0                    0   \n",
       "14766.50000                    0                    0                    0   \n",
       "14770.20000                    0                    0                    0   \n",
       "...                          ...                  ...                  ...   \n",
       "15733.50000                    0                    0                    0   \n",
       "15740.80000                    0  2022-11-21 00:00:00                    0   \n",
       "15742.83672                    0  2022-11-28 00:00:00                    0   \n",
       "15788.95000                    0                    0                    0   \n",
       "15790.00000                    0                    0  2022-11-03 00:00:00   \n",
       "\n",
       "Day                      Tuesday            Wednesday  \n",
       "Rate                                                   \n",
       "14661.07616                    0                    0  \n",
       "14732.30000                    0                    0  \n",
       "14749.60000  2022-08-16 00:00:00                    0  \n",
       "14766.50000                    0  2022-08-10 00:00:00  \n",
       "14770.20000                    0  2022-08-17 00:00:00  \n",
       "...                          ...                  ...  \n",
       "15733.50000  2022-11-29 00:00:00                    0  \n",
       "15740.80000                    0                    0  \n",
       "15742.83672                    0                    0  \n",
       "15788.95000                    0  2022-12-28 00:00:00  \n",
       "15790.00000                    0                    0  \n",
       "\n",
       "[130 rows x 5 columns]"
      ]
     },
     "execution_count": 176,
     "metadata": {},
     "output_type": "execute_result"
    }
   ],
   "source": [
    "df2 = df_1.pivot(index = 'Rate', columns = 'Day')['Date'].fillna(0)\n",
    "df2"
   ]
  },
  {
   "cell_type": "code",
   "execution_count": null,
   "id": "325384e8",
   "metadata": {},
   "outputs": [],
   "source": []
  },
  {
   "cell_type": "code",
   "execution_count": 178,
   "id": "27d282b9",
   "metadata": {},
   "outputs": [],
   "source": [
    "import matplotlib.pyplot as plt # visualisasi data\n",
    "import seaborn as sns # visualisasi data\n",
    "\n",
    "# output dari visualisasi data akan diarahkan ke notebook\n",
    "%matplotlib inline "
   ]
  },
  {
   "cell_type": "code",
   "execution_count": 204,
   "id": "9df2ca5a",
   "metadata": {},
   "outputs": [
    {
     "data": {
      "image/png": "[encoded data removed]",
      "text/plain": [
       "<Figure size 432x288 with 1 Axes>"
      ]
     },
     "metadata": {
      "needs_background": "light"
     },
     "output_type": "display_data"
    }
   ],
   "source": [
    "df_1.plot()\n",
    "plt.tight_layout() "
   ]
  },
  {
   "cell_type": "code",
   "execution_count": 205,
   "id": "8c704c82",
   "metadata": {},
   "outputs": [
    {
     "data": {
      "text/plain": [
       "Text(0.5, 1.0, 'Rate')"
      ]
     },
     "execution_count": 205,
     "metadata": {},
     "output_type": "execute_result"
    },
    {
     "data": {
      "image/png": "[encoded data removed]",
      "text/plain": [
       "<Figure size 576x576 with 4 Axes>"
      ]
     },
     "metadata": {
      "needs_background": "light"
     },
     "output_type": "display_data"
    }
   ],
   "source": [
    "fig,ax = plt.subplots(nrows=2, ncols=2, figsize=(8,8))\n",
    "df_1['Rate'].plot.line(ax=ax[0][0])\n",
    "ax[0][0].set_title('Rate')"
   ]
  },
  {
   "cell_type": "code",
   "execution_count": null,
   "id": "cbbab70f",
   "metadata": {},
   "outputs": [],
   "source": []
  }
 ],
 "metadata": {
  "kernelspec": {
   "display_name": "Python 3",
   "language": "python",
   "name": "python3"
  },
  "language_info": {
   "codemirror_mode": {
    "name": "ipython",
    "version": 3
   },
   "file_extension": ".py",
   "mimetype": "text/x-python",
   "name": "python",
   "nbconvert_exporter": "python",
   "pygments_lexer": "ipython3",
   "version": "3.8.8"
  }
 },
 "nbformat": 4,
 "nbformat_minor": 5
}
